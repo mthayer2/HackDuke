{
 "cells": [
  {
   "cell_type": "markdown",
   "metadata": {},
   "source": [
    "# Offensive Language Convolutional Neural Network\n",
    "This Neural network(NN) will detect hate speech among tweets. We used the dataset [Twitter Sentiment Analysis Detecting hatred tweets](https://www.kaggle.com/arkhoshghalb/twitter-sentiment-analysis-hatred-speech#train.csv) that contains over 30,000 labeled tweets. Each tweet is labeled as 1 meaning the tweet's contents portray sexist and/or racist remarks or 0 meaning it does not. We mapped each word in the tweet to a unique vector based on the context that it was used with the GoogleNews-vectors-negative300.bin Skipgram model. This model allowed for our neural network to pick up on the context of the word rather than simply memorizing word sequences. \n",
    "\n",
    "We trained our data using the 80% 20% rule with a training set of 3,200 unique tweets while the testing sample's batch size was 800. On the testing sample, we achieved an overall accuracy of 95% and a loss value of just 0.16."
   ]
  },
  {
   "cell_type": "markdown",
   "metadata": {},
   "source": [
    "## Step 1: Word Classification\n",
    "Read the data files and separate into two categories: hate_data and good_data then randomly combine the data into one list."
   ]
  },
  {
   "cell_type": "code",
   "execution_count": 1,
   "metadata": {},
   "outputs": [],
   "source": [
    "#import all necessary modules\n",
    "from nltk.tokenize import sent_tokenize, word_tokenize\n",
    "import warnings\n",
    "import nltk\n",
    "import numpy as np\n",
    "\n",
    "warnings.filterwarnings(action = 'ignore')\n",
    "\n",
    "import gensim\n",
    "from gensim.models import Word2Vec"
   ]
  },
  {
   "cell_type": "code",
   "execution_count": 2,
   "metadata": {},
   "outputs": [],
   "source": [
    "#read the hate tweets file\n",
    "sample = open(\"hateTweets.txt\", \"r\",  encoding = \"ISO-8859-1\")\n",
    "s = sample.read()\n",
    "\n",
    "#replace escape characters with space\n",
    "f = s.replace(\"\\n\", \" \")\n",
    "\n",
    "hate_data = []\n",
    "\n",
    "#iterate through each sentece in the file\n",
    "for i in sent_tokenize(f):\n",
    "    temp = []\n",
    "    \n",
    "    #tokenize the sentence into words\n",
    "    for j in word_tokenize(i):\n",
    "        temp.append(j.lower())\n",
    "    \n",
    "    hate_data.append(temp)"
   ]
  },
  {
   "cell_type": "code",
   "execution_count": 3,
   "metadata": {},
   "outputs": [],
   "source": [
    "#read the nice tweets file\n",
    "sample = open(\"goodTweets.txt\", \"r\",  encoding = \"ISO-8859-1\")\n",
    "s = sample.read()\n",
    "\n",
    "#replace escape characters with space\n",
    "f = s.replace(\"\\n\", \" \")\n",
    "\n",
    "good_data = []\n",
    "\n",
    "#iterate through each sentece in the file\n",
    "for i in sent_tokenize(f):\n",
    "    temp = []\n",
    "    \n",
    "    #tokenize the sentence into words\n",
    "    for j in word_tokenize(i):\n",
    "        temp.append(j.lower())\n",
    "    \n",
    "    good_data.append(temp)"
   ]
  },
  {
   "cell_type": "code",
   "execution_count": 4,
   "metadata": {},
   "outputs": [],
   "source": [
    "#Randomize the hate and nice data into one list of size 4000\n",
    "import random\n",
    "data = []\n",
    "label_data = []\n",
    "\n",
    "#9,000 total\n",
    "good_data = good_data[0:2400]\n",
    "hate_data = hate_data[0:1600]\n",
    "\n",
    "while len(good_data) != 0 and len(hate_data) != 0:\n",
    "    random_selection = random.randint(0,1)\n",
    "\n",
    "    if random_selection is 0:\n",
    "        label_data.append(0)\n",
    "        data.append(good_data.pop())\n",
    "    else:\n",
    "        label_data.append(1)\n",
    "        data.append(hate_data.pop())\n",
    "        \n",
    "while len(good_data) != 0:\n",
    "    label_data.append(0)\n",
    "    data.append(good_data.pop())\n",
    "    \n",
    "while len(hate_data) != 0:\n",
    "    label_data.append(1)\n",
    "    data.append(hate_data.pop())"
   ]
  },
  {
   "cell_type": "markdown",
   "metadata": {},
   "source": [
    "## Step 2: Word Embedding\n",
    "Change each word in the sentence to a vector of size 100 using Skip Gram architecture to predict the surrounding context of a word and Google's word2vec software."
   ]
  },
  {
   "cell_type": "code",
   "execution_count": 5,
   "metadata": {},
   "outputs": [],
   "source": [
    "#Create Skip Gram model by loading in the GoogleNews-vectors-negative300.bin \n",
    "#Translates a word into a 300 vector of double values describing relation to other words\n",
    "model = gensim.models.KeyedVectors.load_word2vec_format('model/GoogleNews-vectors-negative300.bin', binary=True) "
   ]
  },
  {
   "cell_type": "code",
   "execution_count": 6,
   "metadata": {},
   "outputs": [],
   "source": [
    "#get the word vectors\n",
    "word_vectors = model.wv"
   ]
  },
  {
   "cell_type": "code",
   "execution_count": 7,
   "metadata": {},
   "outputs": [],
   "source": [
    "#create a 100 size text vector for the tweet, pad with 0 if not 100 words\n",
    "all_tweets = []\n",
    "for tweet in range(0,4000): \n",
    "    tweet_as_100_words = np.zeros(100, dtype = '<U100')\n",
    "    for word_index in range(len(data[tweet])):\n",
    "        if word_index < 100:\n",
    "            np.put(tweet_as_100_words, word_index, data[tweet][word_index])\n",
    "    tweet_as_100_words[tweet_as_100_words=='']='0'\n",
    "    all_tweets.append(tweet_as_100_words)\n",
    "all_tweets = np.asarray(all_tweets)"
   ]
  },
  {
   "cell_type": "code",
   "execution_count": 8,
   "metadata": {},
   "outputs": [],
   "source": [
    "#append the word vectors so that we have a 100 x 300 numpy array\n",
    "new_list = []\n",
    "\n",
    "for tweet in all_tweets:\n",
    "    word_list = []\n",
    "    for word in tweet:\n",
    "        try:\n",
    "            word_list.append(word_vectors[word])\n",
    "        except:\n",
    "            word_list.append(word_vectors['UNK'])\n",
    "    new_list.append(word_list)\n",
    "            \n",
    "new_list = np.asarray(new_list)"
   ]
  },
  {
   "cell_type": "markdown",
   "metadata": {},
   "source": [
    "## Step 3: Create Neural Network & Visualize Learning Process\n",
    "The Convolutional Neural Network architecture will predict whether a tweet is racist/sexist or not using the Frameworks Pytorch and Keras. Output will be in the form of a binary string where:\n",
    "\n",
    "| Not Racist/Sexist | Racist/Sexist |       Result      |\n",
    "|-------------------|---------------|-------------------|\n",
    "|         0         |       1       |   Racist/Sexist   |\n",
    "|         1         |       0       | Not Racist/Sexist |\n",
    "\n",
    "After fitting the data, the Training Set Accuracy and Loss of the Neural Network is plotted on two separate pyplots."
   ]
  },
  {
   "cell_type": "code",
   "execution_count": 9,
   "metadata": {},
   "outputs": [
    {
     "name": "stderr",
     "output_type": "stream",
     "text": [
      "Using TensorFlow backend.\n"
     ]
    }
   ],
   "source": [
    "#Create the Neural Network using Keras and TensorFlow\n",
    "from torch import nn\n",
    "from keras.models import Sequential\n",
    "from keras.layers import Dense, Dropout, Conv1D, MaxPooling1D, GRU, GlobalMaxPooling1D, Flatten\n",
    "import keras\n",
    "import matplotlib.pyplot as plt"
   ]
  },
  {
   "cell_type": "code",
   "execution_count": 10,
   "metadata": {},
   "outputs": [],
   "source": [
    "def evaluate_model(trainX, trainY, testX, testY):\n",
    "    verbose, epochs, batch_size = 0, 100, 4000\n",
    "    n_timesteps, n_features, n_outputs = trainX.shape[1], trainX.shape[2], trainY.shape[1]\n",
    "    neural_model = Sequential()\n",
    "\n",
    "    # Add a 1D convolutional layer to filter feature space to a 100x100 representation\n",
    "    neural_model.add(Conv1D(filters=100,kernel_size=(4),padding=\"same\",activation='relu',\n",
    "                           input_shape=(n_timesteps, n_features)))\n",
    "    neural_model.add(Conv1D(filters=100,kernel_size=(4),padding=\"same\",activation='relu'))\n",
    "    \n",
    "    # Dropout rate at 20% of total words. This avoids overfitting by randomly removing \n",
    "    # words in sentences and forcing the classification to not only rely on specific words\n",
    "    neural_model.add(Dropout(0.2))\n",
    "    \n",
    "    # Pass into 1D max pooling layer to produce output shape of 25x100 to extract features\n",
    "    neural_model.add(MaxPooling1D(pool_size=4))\n",
    "    \n",
    "    # Make the neural model 1D\n",
    "    neural_model.add(Flatten())\n",
    "    neural_model.add(Dense(100, activation='relu'))\n",
    "    \n",
    "    # Softmax layer to predict probability distribution over all possible classes\n",
    "    neural_model.add(Dense(n_outputs, activation='softmax'))\n",
    "    \n",
    "    \n",
    "    #compile the model using adam optimizer (Learning Rate = 0.001)\n",
    "    neural_model.compile(loss='categorical_crossentropy', optimizer='adam', metrics=['accuracy'])\n",
    "    \n",
    "    #fit the model\n",
    "    print(\"Fitting...\")\n",
    "    history = neural_model.fit(trainX, trainY, epochs=epochs, batch_size=batch_size, \n",
    "                               verbose=verbose)\n",
    "    # summarize history for accuracy\n",
    "    plt.plot(history.history['accuracy'])\n",
    "    plt.title('model accuracy')\n",
    "    plt.ylabel('accuracy')\n",
    "    plt.xlabel('epoch')\n",
    "    plt.legend(['train'], loc='upper left')\n",
    "    plt.grid()\n",
    "    plt.show()\n",
    "    # summarize history for loss\n",
    "    plt.plot(history.history['loss'])\n",
    "    plt.title('model loss')\n",
    "    plt.ylabel('loss')\n",
    "    plt.xlabel('epoch')\n",
    "    plt.legend(['train'], loc='upper left')\n",
    "    plt.grid()\n",
    "    plt.show()\n",
    "    \n",
    "    \n",
    "    #Evaluate the model\n",
    "    print(\"Evaluating...\")\n",
    "    accuracy = neural_model.evaluate(testX, testY, batch_size=batch_size, verbose=verbose)\n",
    "    neural_model.save(\"model/neural_model2.h5\")\n",
    "    return accuracy"
   ]
  },
  {
   "cell_type": "markdown",
   "metadata": {},
   "source": [
    "## Step 5: Pass Train/Test Data to Model"
   ]
  },
  {
   "cell_type": "code",
   "execution_count": 11,
   "metadata": {},
   "outputs": [],
   "source": [
    "# Specify the training/testing sets\n",
    "# Train with 3200 tweets and test against 800 tweets (80%/20%)\n",
    "trainX = new_list[0:3200]\n",
    "trainY = label_data[0:3200]\n",
    "testX = new_list[3200:4000]\n",
    "testY = label_data[3200:4000]"
   ]
  },
  {
   "cell_type": "code",
   "execution_count": 12,
   "metadata": {},
   "outputs": [],
   "source": [
    "#One hot encoding for categorical variables\n",
    "from keras.utils import to_categorical\n",
    "trainY = to_categorical(trainY, 2)\n",
    "testY = to_categorical(testY, 2)\n"
   ]
  },
  {
   "cell_type": "code",
   "execution_count": 13,
   "metadata": {},
   "outputs": [
    {
     "name": "stdout",
     "output_type": "stream",
     "text": [
      "Fitting...\n"
     ]
    },
    {
     "data": {
      "image/png": "[encoded data removed]",
      "text/plain": [
       "<Figure size 432x288 with 1 Axes>"
      ]
     },
     "metadata": {
      "needs_background": "light"
     },
     "output_type": "display_data"
    },
    {
     "data": {
      "image/png": "[encoded data removed]",
      "text/plain": [
       "<Figure size 432x288 with 1 Axes>"
      ]
     },
     "metadata": {
      "needs_background": "light"
     },
     "output_type": "display_data"
    },
    {
     "name": "stdout",
     "output_type": "stream",
     "text": [
      "Evaluating...\n",
      "Final Stats:\n",
      "Accuracy: 0.8287500143051147     Loss: 0.38329124450683594\n"
     ]
    }
   ],
   "source": [
    "accuracy = evaluate_model(trainX,trainY,testX,testY)\n",
    "print(\"Final Stats:\")\n",
    "print(\"Accuracy: {0}     Loss: {1}\".format(accuracy[1],accuracy[0]))"
   ]
  },
  {
   "cell_type": "markdown",
   "metadata": {},
   "source": [
    "# Try it out!\n",
    "Enter a tweet of your choice in the box below to see what our model thinks of it."
   ]
  },
  {
   "cell_type": "code",
   "execution_count": 15,
   "metadata": {},
   "outputs": [],
   "source": [
    "import import_ipynb\n",
    "from CodeToEmbed import make_prediction\n",
    "from ipywidgets import interact, widgets, Layout\n",
    "from IPython.display import display\n",
    "from keras.models import load_model"
   ]
  },
  {
   "cell_type": "code",
   "execution_count": 16,
   "metadata": {},
   "outputs": [],
   "source": [
    "model = gensim.models.KeyedVectors.load_word2vec_format('model/GoogleNews-vectors-negative300.bin', binary=True) \n",
    "word_vectors = model.wv"
   ]
  },
  {
   "cell_type": "code",
   "execution_count": 17,
   "metadata": {},
   "outputs": [],
   "source": [
    "trained_model = load_model('model/neural_model.h5')"
   ]
  },
  {
   "cell_type": "code",
   "execution_count": 18,
   "metadata": {},
   "outputs": [
    {
     "data": {
      "application/vnd.jupyter.widget-view+json": {
       "model_id": "1a26874e6a2646d38aca8a59bfb2ca1e",
       "version_major": 2,
       "version_minor": 0
      },
      "text/plain": [
       "Text(value='', layout=Layout(height='100px', width='50%'), placeholder=\"What's happening?\")"
      ]
     },
     "metadata": {},
     "output_type": "display_data"
    },
    {
     "name": "stdout",
     "output_type": "stream",
     "text": [
      "Results: \n"
     ]
    }
   ],
   "source": [
    "text = widgets.Text(placeholder=\"What's happening?\", \n",
    "                    layout = Layout(width='50%',height='100px', ))\n",
    "display(text)\n",
    "\n",
    "results = [\"Not Offensive\", \"Offensive\"]\n",
    "print(\"Results: \")\n",
    "\n",
    "def callback(text):\n",
    "    predicted_values = make_prediction(model, trained_model, word_vectors, text.value)\n",
    "    max_result = max(predicted_values[0][0], predicted_values[0][1])\n",
    "    result_index = 0\n",
    "    if max_result == predicted_values[0][1]:\n",
    "        result_index = 1\n",
    "        \n",
    "    print(results[result_index])\n",
    "    display(\"{0}% , {1}%\".format(predicted_values[0][0] * 100,predicted_values[0][1] * 100))\n",
    "\n",
    "text.on_submit(callback)"
   ]
  },
  {
   "cell_type": "markdown",
   "metadata": {},
   "source": [
    "### Sources: \n",
    "Dataset: Twitter Sentiment Analysis Detecting hatred tweets, provided by Analytics Vidhya\n",
    "https://www.geeksforgeeks.org/python-word-embedding-using-word2vec/\n",
    " \n",
    "Zhang, Z., Robinson, D. and Tepper, J. (2018) Detecting hate speech on Twitter using a convolution-GRU based deep neural network. In: Gangemi, A., Navigli, R., Vidal, M.E., Hitzler, P., Troncy, R., Hollink, L., Tordai, A. and Alam, M., (eds.) ESWC 2018: The semantic web. ESWC 2018, 03-07 Jun 2018, Heraklion, Greece. Lecture Notes in Computer Science, 10843 . Springer Verlag, pp. 745-760. ISBN 978-3-319-93417-4"
   ]
  },
  {
   "cell_type": "code",
   "execution_count": null,
   "metadata": {},
   "outputs": [],
   "source": []
  }
 ],
 "metadata": {
  "kernelspec": {
   "display_name": "Python 3",
   "language": "python",
   "name": "python3"
  },
  "language_info": {
   "codemirror_mode": {
    "name": "ipython",
    "version": 3
   },
   "file_extension": ".py",
   "mimetype": "text/x-python",
   "name": "python",
   "nbconvert_exporter": "python",
   "pygments_lexer": "ipython3",
   "version": "3.7.4"
  }
 },
 "nbformat": 4,
 "nbformat_minor": 2
}
