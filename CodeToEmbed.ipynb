{
 "cells": [
  {
   "cell_type": "code",
   "execution_count": 4,
   "metadata": {},
   "outputs": [
    {
     "name": "stderr",
     "output_type": "stream",
     "text": [
      "Using TensorFlow backend.\n"
     ]
    }
   ],
   "source": [
    "#Simulate predictions\n",
    "import re\n",
    "import gensim\n",
    "from gensim.models import Word2Vec\n",
    "import keras\n",
    "from keras.models import load_model\n",
    "import numpy as np"
   ]
  },
  {
   "cell_type": "code",
   "execution_count": 6,
   "metadata": {},
   "outputs": [],
   "source": [
    "def make_prediction(model, trained_model, word_vectors, tweet_to_predict):\n",
    "    #Convert tweet to array\n",
    "    tweet_as_array = re.findall(r\"[\\w']+|[.,!?;]\", tweet_to_predict)\n",
    "    \n",
    "    #Convert tweet to 100 word array\n",
    "    tweet_as_100_words = np.zeros(100, dtype = '<U100')\n",
    "    for word_index in range(len(tweet_as_array)):\n",
    "        if word_index < 100:\n",
    "            tweet_as_100_words[word_index] = tweet_as_array[word_index]\n",
    "    tweet_as_100_words[tweet_as_100_words=='']='0'\n",
    "    \n",
    "    #append the word vectors so that we have a 1 x 100 x 300 numpy array\n",
    "    word_vector_list = []\n",
    "    inner_list = []\n",
    "    \n",
    "    for word in tweet_as_100_words:\n",
    "        try:\n",
    "            inner_list.append(word_vectors[word])\n",
    "        except:\n",
    "            inner_list.append(word_vectors['UNK'])\n",
    "    \n",
    "    word_vector_list.append(inner_list)\n",
    "    word_vector_list = np.asarray(word_vector_list)\n",
    "    \n",
    "    return trained_model.predict(word_vector_list)"
   ]
  },
  {
   "cell_type": "code",
   "execution_count": 9,
   "metadata": {},
   "outputs": [
    {
     "data": {
      "text/plain": [
       "array([[0.05814722, 0.94185275]], dtype=float32)"
      ]
     },
     "execution_count": 9,
     "metadata": {},
     "output_type": "execute_result"
    }
   ],
   "source": [
    "make_prediction(\"Women are better programmers than men\")"
   ]
  },
  {
   "cell_type": "code",
   "execution_count": null,
   "metadata": {},
   "outputs": [],
   "source": []
  }
 ],
 "metadata": {
  "kernelspec": {
   "display_name": "Python 3",
   "language": "python",
   "name": "python3"
  },
  "language_info": {
   "codemirror_mode": {
    "name": "ipython",
    "version": 3
   },
   "file_extension": ".py",
   "mimetype": "text/x-python",
   "name": "python",
   "nbconvert_exporter": "python",
   "pygments_lexer": "ipython3",
   "version": "3.7.4"
  }
 },
 "nbformat": 4,
 "nbformat_minor": 2
}
